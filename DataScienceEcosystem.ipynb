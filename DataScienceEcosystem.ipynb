{
 "cells": [
  {
   "cell_type": "markdown",
   "id": "f85a9e79",
   "metadata": {},
   "source": [
    "# Data Science Tools and Ecosystem\n"
   ]
  },
  {
   "cell_type": "markdown",
   "id": "622056b4",
   "metadata": {},
   "source": [
    "## In This Notebook, Data Science and Ecosystem are summarized"
   ]
  },
  {
   "cell_type": "markdown",
   "id": "cc549a71",
   "metadata": {},
   "source": [
    "## Some of the popular languages that data scientiosts use are:\n",
    "\n",
    "- Python\n",
    "- R LAnguage\n",
    "- SQL\n",
    "- Scala\n",
    " "
   ]
  },
  {
   "cell_type": "markdown",
   "id": "b084b988",
   "metadata": {},
   "source": [
    "## Some of the commonly used libraries used by Data Scientists include:\n",
    "\n",
    "- Numpy\n",
    "- Pandas\n",
    "- matplotlib\n",
    "- seaborn\n",
    "- pytorch\n",
    "- scikit learn\n",
    "- ggplot\n",
    "- caret\n"
   ]
  },
  {
   "cell_type": "markdown",
   "id": "0dddfb8c",
   "metadata": {},
   "source": [
    "## Data Science Tools\n",
    "\n",
    "| Sl. no | Data Science Tools |\n",
    "|--------| -------------------|\n",
    "| 1.     | Jupyter Notebook   |\n",
    "| 2.     | Jupyter Lab        |\n",
    "| 3.     | Vs Code            |\n",
    "| 4.     | RSudio             |\n",
    "| 5.     | Scala              |\n",
    "| 6.     | Big Query          |\n",
    "| 7.     | SQL                |\n",
    "| 8.     | Mongo DB           |\n",
    "| 9.     | Power BI           |\n",
    "| 10.    | Tableau            |\n",
    "| 11.    | GCP                |\n",
    "| 12.    | Microsft Azure     |\n"
   ]
  },
  {
   "cell_type": "markdown",
   "id": "c8993279",
   "metadata": {},
   "source": [
    "### Below are a few examples of evaluating arithmetic expressions in Python\n"
   ]
  },
  {
   "cell_type": "code",
   "execution_count": 1,
   "id": "57ff80cf",
   "metadata": {},
   "outputs": [
    {
     "data": {
      "text/plain": [
       "2"
      ]
     },
     "execution_count": 1,
     "metadata": {},
     "output_type": "execute_result"
    }
   ],
   "source": [
    "1+1"
   ]
  },
  {
   "cell_type": "code",
   "execution_count": 2,
   "id": "cf03a33b",
   "metadata": {},
   "outputs": [
    {
     "data": {
      "text/plain": [
       "19.166666666666668"
      ]
     },
     "execution_count": 2,
     "metadata": {},
     "output_type": "execute_result"
    }
   ],
   "source": [
    "23*45/54"
   ]
  },
  {
   "cell_type": "code",
   "execution_count": 3,
   "id": "1fb26a42",
   "metadata": {},
   "outputs": [
    {
     "data": {
      "text/plain": [
       "17"
      ]
     },
     "execution_count": 3,
     "metadata": {},
     "output_type": "execute_result"
    }
   ],
   "source": [
    "(3*4) + 5"
   ]
  },
  {
   "cell_type": "markdown",
   "id": "c1ee78a9",
   "metadata": {},
   "source": [
    "### This will convert 200 minutes to hours by diving by 60"
   ]
  },
  {
   "cell_type": "code",
   "execution_count": 10,
   "id": "3b40cc5c",
   "metadata": {},
   "outputs": [
    {
     "name": "stdout",
     "output_type": "stream",
     "text": [
      "200 minutes is equal to 3.3333333333333335 hours\n"
     ]
    }
   ],
   "source": [
    "minute = 200\n",
    "conversion_factor = 60\n",
    "\n",
    "hour = minute/conversion_factor\n",
    "print(f\"{minute} minutes is equal to {hour} hours\")"
   ]
  },
  {
   "cell_type": "markdown",
   "id": "899e36df",
   "metadata": {},
   "source": [
    "##  Some of the key takeaways from the course\n",
    "\n",
    "### **Objectives**:\n",
    "\n",
    "- Some of the popular languages that data scientists\n",
    "- Commonly used libraries\n",
    "- Data Science tools\n",
    "- Basic arithmetic operations in python"
   ]
  },
  {
   "cell_type": "markdown",
   "id": "f8ceec76",
   "metadata": {},
   "source": [
    "## Author : \n",
    "\n",
    "#### Mohammed Fazal\n"
   ]
  },
  {
   "cell_type": "code",
   "execution_count": null,
   "id": "4c4d60ea",
   "metadata": {},
   "outputs": [],
   "source": []
  },
  {
   "cell_type": "markdown",
   "id": "3e39441c",
   "metadata": {},
   "source": []
  }
 ],
 "metadata": {
  "kernelspec": {
   "display_name": "Python 3 (ipykernel)",
   "language": "python",
   "name": "python3"
  },
  "language_info": {
   "codemirror_mode": {
    "name": "ipython",
    "version": 3
   },
   "file_extension": ".py",
   "mimetype": "text/x-python",
   "name": "python",
   "nbconvert_exporter": "python",
   "pygments_lexer": "ipython3",
   "version": "3.10.9"
  }
 },
 "nbformat": 4,
 "nbformat_minor": 5
}
